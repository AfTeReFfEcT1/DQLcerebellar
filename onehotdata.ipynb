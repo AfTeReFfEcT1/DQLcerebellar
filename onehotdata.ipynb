{
 "cells": [
  {
   "cell_type": "code",
   "execution_count": 1,
   "id": "d370d26b",
   "metadata": {},
   "outputs": [],
   "source": [
    "import pandas as pd\n",
    "import numpy as np\n",
    "from sklearn.model_selection import train_test_split\n",
    "from sklearn.preprocessing import StandardScaler, OneHotEncoder\n",
    "from sklearn.impute import SimpleImputer\n",
    "import os\n",
    "import torch.nn as nn\n",
    "import torch.optim as optim"
   ]
  },
  {
   "cell_type": "code",
   "execution_count": 2,
   "id": "928ffe7b",
   "metadata": {},
   "outputs": [],
   "source": [
    "class DataPreprocessor:\n",
    "    def __init__(self, file_path):\n",
    "        self.file_path = file_path\n",
    "        self.data = None\n",
    "        self.preprocessed_data = None\n",
    "        self.features = None\n",
    "        self.labels = None\n",
    "    \n",
    "    def load_data(self):\n",
    "        try:\n",
    "            self.data = pd.read_csv(self.file_path)\n",
    "            print(f\"Data loaded successfully with shape {self.data.shape}\")\n",
    "        except FileNotFoundError:\n",
    "            print(f\"File {self.file_path} not found!\")\n",
    "            raise\n",
    "    \n",
    "    def preprocess_data(self, target_column, categorical_columns=None, numerical_columns=None):\n",
    "        if self.data is None:\n",
    "            raise ValueError(\"Data not loaded. Call load_data() first.\")\n",
    "\n",
    "        # Separate features and labels\n",
    "        self.features = self.data.drop(columns=[target_column])\n",
    "        self.labels = self.data[target_column]\n",
    "\n",
    "        # Impute missing values\n",
    "        if categorical_columns:\n",
    "            categorical_imputer = SimpleImputer(strategy='most_frequent')\n",
    "            self.features[categorical_columns] = categorical_imputer.fit_transform(self.features[categorical_columns])\n",
    "\n",
    "        if numerical_columns:\n",
    "            numerical_imputer = SimpleImputer(strategy='mean')\n",
    "            self.features[numerical_columns] = numerical_imputer.fit_transform(self.features[numerical_columns])\n",
    "\n",
    "        # One-hot encode categorical features\n",
    "        if categorical_columns:\n",
    "            encoder = OneHotEncoder(sparse=False, drop='first')\n",
    "            categorical_data = encoder.fit_transform(self.features[categorical_columns])\n",
    "            categorical_columns_encoded = encoder.get_feature_names_out(categorical_columns)\n",
    "            categorical_df = pd.DataFrame(categorical_data, columns=categorical_columns_encoded)\n",
    "            self.features = self.features.drop(columns=categorical_columns)\n",
    "            self.features = pd.concat([self.features.reset_index(drop=True), categorical_df], axis=1)\n",
    "\n",
    "        # Normalize numerical features\n",
    "        if numerical_columns:\n",
    "            scaler = StandardScaler()\n",
    "            self.features[numerical_columns] = scaler.fit_transform(self.features[numerical_columns])\n",
    "\n",
    "        self.preprocessed_data = pd.concat([self.features, self.labels], axis=1)\n",
    "        print(\"Preprocessing complete.\")\n",
    "\n",
    "    def generate_spikes(self):\n",
    "        if self.preprocessed_data is None:\n",
    "            raise ValueError(\"Data not preprocessed. Call preprocess_data() first.\")\n",
    "    \n",
    "        # Separate numerical and categorical columns\n",
    "        numerical_data = self.features.select_dtypes(include=['float64', 'int64'])\n",
    "        categorical_data = self.features.select_dtypes(exclude=['float64', 'int64'])\n",
    "\n",
    "        # Generate spikes for numerical columns based on the median\n",
    "        numerical_median = numerical_data.median()\n",
    "        numerical_spike_train = np.where(numerical_data > numerical_median, 1, 0)\n",
    "    \n",
    "        # For categorical data, assuming it's already one-hot encoded or binary\n",
    "        categorical_spike_train = categorical_data.values\n",
    "\n",
    "        # Concatenate the numerical and categorical spikes\n",
    "        spike_train = np.concatenate((numerical_spike_train, categorical_spike_train), axis=1)\n",
    "\n",
    "        print(\"Spike generation complete.\")\n",
    "        return spike_train\n",
    "\n",
    "\n",
    "    def get_train_test_split(self, test_size=0.2, random_state=42):\n",
    "        if self.preprocessed_data is None:\n",
    "            raise ValueError(\"Data not preprocessed. Call preprocess_data() first.\")\n",
    "        \n",
    "        X = self.features\n",
    "        y = self.labels\n",
    "        X_train, X_test, y_train, y_test = train_test_split(X, y, test_size=test_size, random_state=random_state)\n",
    "        print(f\"Train-test split complete. Train shape: {X_train.shape}, Test shape: {X_test.shape}\")\n",
    "        return X_train, X_test, y_train, y_test"
   ]
  },
  {
   "cell_type": "code",
   "execution_count": 39,
   "id": "e19add80",
   "metadata": {},
   "outputs": [],
   "source": [
    "file_path = \"autism_screening.csv\"\n",
    "categorical_columns = ['gender', 'ethnicity', 'jundice', 'austim', 'relation','contry_of_res','used_app_before','age_desc','relation']\n",
    "numerical_columns = ['age','result', 'A1_Score', 'A2_Score', 'A3_Score', 'A4_Score', 'A5_Score', \n",
    "                     'A6_Score', 'A7_Score', 'A8_Score', 'A9_Score', 'A10_Score']"
   ]
  },
  {
   "cell_type": "code",
   "execution_count": 4,
   "id": "12d1ab40",
   "metadata": {
    "scrolled": false
   },
   "outputs": [
    {
     "name": "stdout",
     "output_type": "stream",
     "text": [
      "Data loaded successfully with shape (704, 21)\n",
      "Preprocessing complete.\n",
      "Spike generation complete.\n",
      "[[0. 1. 1. ... 0. 0. 0.]\n",
      " [0. 1. 0. ... 0. 0. 0.]\n",
      " [0. 1. 0. ... 1. 0. 0.]\n",
      " ...\n",
      " [0. 1. 1. ... 1. 0. 0.]\n",
      " [0. 1. 0. ... 0. 0. 0.]\n",
      " [0. 1. 1. ... 0. 0. 0.]]\n"
     ]
    },
    {
     "name": "stderr",
     "output_type": "stream",
     "text": [
      "C:\\Users\\vaish\\anaconda3\\Lib\\site-packages\\sklearn\\preprocessing\\_encoders.py:972: FutureWarning: `sparse` was renamed to `sparse_output` in version 1.2 and will be removed in 1.4. `sparse_output` is ignored unless you leave `sparse` to its default value.\n",
      "  warnings.warn(\n"
     ]
    }
   ],
   "source": [
    "preprocessor = DataPreprocessor(file_path)\n",
    "preprocessor.load_data()\n",
    "preprocessor.preprocess_data(target_column='Class/ASD', categorical_columns=categorical_columns, numerical_columns=numerical_columns)\n",
    "spike_train = preprocessor.generate_spikes()\n",
    "\n",
    "print(spike_train[:10])"
   ]
  },
  {
   "cell_type": "code",
   "execution_count": 5,
   "id": "fde2c6a4",
   "metadata": {},
   "outputs": [],
   "source": [
    "import torch\n",
    "import torch.nn as nn\n",
    "\n",
    "class SpikeNeuronLayer(nn.Module):\n",
    "    def __init__(self, input_size, output_size, threshold=1.0, decay=0.9):\n",
    "        super(SpikeNeuronLayer, self).__init__()\n",
    "        self.input_size = input_size\n",
    "        self.output_size = output_size\n",
    "        self.threshold = threshold\n",
    "        self.decay = decay\n",
    "        \n",
    "        self.weights = nn.Parameter(torch.rand(input_size, output_size))\n",
    "        self.membrane_potential = torch.zeros(output_size)\n",
    "\n",
    "    def forward(self, input_spikes):\n",
    "        synaptic_input = torch.matmul(input_spikes, self.weights)\n",
    "        self.membrane_potential = self.decay * self.membrane_potential + synaptic_input\n",
    "        \n",
    "        output_spikes = (self.membrane_potential >= self.threshold).float()l\n",
    "        self.membrane_potential *= (1 - output_spikes)\n",
    "\n",
    "        return output_spikes"
   ]
  },
  {
   "cell_type": "code",
   "execution_count": 6,
   "id": "564ec744",
   "metadata": {},
   "outputs": [],
   "source": [
    "\n",
    "class SpikeNetwork(nn.Module):\n",
    "    def __init__(self, input_size, hidden_size, output_size, num_layers=2, threshold=1.0, decay=0.9):\n",
    "        super(SpikeNetwork, self).__init__()\n",
    "        self.layers = nn.ModuleList()\n",
    "        self.layers.append(SpikeNeuronLayer(input_size, hidden_size, threshold, decay))\n",
    "        for _ in range(num_layers - 1):\n",
    "            self.layers.append(SpikeNeuronLayer(hidden_size, hidden_size, threshold, decay))\n",
    "        self.output_layer = SpikeNeuronLayer(hidden_size, output_size, threshold, decay)\n",
    "\n",
    "    def forward(self, input_spikes):\n",
    "        x = input_spikes\n",
    "        for layer in self.layers:\n",
    "            x = layer(x)\n",
    "        output_spikes = self.output_layer(x)\n",
    "        return output_spikes"
   ]
  },
  {
   "cell_type": "code",
   "execution_count": 7,
   "id": "da168ec0",
   "metadata": {},
   "outputs": [],
   "source": [
    "input_size = spike_train.shape[1]  # Number of input features from spike train\n",
    "hidden_size = 64  \n",
    "output_size = 2   # Binary classification: YES/NO (Class/ASD)\n",
    "num_layers = 3 "
   ]
  },
  {
   "cell_type": "code",
   "execution_count": 8,
   "id": "8c15538f",
   "metadata": {},
   "outputs": [],
   "source": [
    "spike_network = SpikeNetwork(input_size, hidden_size, output_size, num_layers)"
   ]
  },
  {
   "cell_type": "code",
   "execution_count": 57,
   "id": "70d29f7c",
   "metadata": {},
   "outputs": [],
   "source": [
    "input_spikes = torch.tensor(spike_train[:10], dtype=torch.float32)"
   ]
  },
  {
   "cell_type": "code",
   "execution_count": 58,
   "id": "7a3654c3",
   "metadata": {},
   "outputs": [
    {
     "name": "stdout",
     "output_type": "stream",
     "text": [
      "Output spikes from SNN: tensor([[1., 1.],\n",
      "        [1., 1.],\n",
      "        [1., 1.],\n",
      "        [1., 1.],\n",
      "        [1., 1.],\n",
      "        [1., 1.],\n",
      "        [1., 1.],\n",
      "        [1., 1.],\n",
      "        [1., 1.],\n",
      "        [1., 1.]])\n"
     ]
    }
   ],
   "source": [
    "# Forward pass through the spiking network\n",
    "output_spikes = spike_network(input_spikes)\n",
    "print(f\"Output spikes from SNN: {output_spikes}\")"
   ]
  },
  {
   "cell_type": "code",
   "execution_count": 33,
   "id": "c26e58ad",
   "metadata": {},
   "outputs": [
    {
     "name": "stdout",
     "output_type": "stream",
     "text": [
      "(704, 103)\n"
     ]
    }
   ],
   "source": [
    "print(spike_train.shape)"
   ]
  },
  {
   "cell_type": "markdown",
   "id": "e9f024a0",
   "metadata": {},
   "source": [
    "# DeepNetwork"
   ]
  },
  {
   "cell_type": "code",
   "execution_count": 17,
   "id": "d938a032",
   "metadata": {},
   "outputs": [],
   "source": [
    "class DeepNetwork(nn.Module):\n",
    "    def __init__(self, input_size=2, hidden_size=128, output_size=1, num_layers=3):\n",
    "        super(DeepNetwork, self).__init__()\n",
    "        \n",
    "        layers = []\n",
    "        in_dim = input_size\n",
    "        \n",
    "        # Create hidden layers based on num_layers and hidden_size\n",
    "        for _ in range(num_layers):\n",
    "            layers.append(nn.Linear(in_dim, hidden_size))\n",
    "            in_dim = hidden_size\n",
    "\n",
    "        self.layers = nn.ModuleList(layers)\n",
    "        self.output_layer = nn.Linear(in_dim, output_size)\n",
    "        self.relu = nn.ReLU()\n",
    "\n",
    "    def forward(self, x):\n",
    "        for layer in self.layers:\n",
    "            x = self.relu(layer(x))\n",
    "        output = self.output_layer(x)\n",
    "        return output\n",
    "\n",
    "input_size_dnn = 2 \n",
    "hidden_size_dnn = 64  # Number of neurons per hidden layer\n",
    "output_size_dnn = 1  # Output size of the network\n",
    "num_layers_dnn = 3  #hidden layers\n",
    "\n",
    "deep_network = DeepNetwork(input_size_dnn, hidden_size_dnn, output_size_dnn, num_layers_dnn)\n"
   ]
  },
  {
   "cell_type": "code",
   "execution_count": 13,
   "id": "9d2d5073",
   "metadata": {},
   "outputs": [],
   "source": [
    "class ReinforcementLearningModuleForDNN:\n",
    "    def __init__(self, deep_network, learning_rate=0.001, gamma=0.99):\n",
    "        self.deep_network = deep_network\n",
    "        self.optimizer = optim.Adam(deep_network.parameters(), lr=learning_rate)\n",
    "        self.gamma = gamma\n",
    "        self.critic = nn.Linear(deep_network.output_layer.out_features, 1)\n",
    "\n",
    "    def compute_loss(self, predicted_output, reward):\n",
    "        critic_value = self.critic(predicted_output)\n",
    "        td_error = reward - critic_value\n",
    "        return torch.mean(td_error ** 2)\n",
    "\n",
    "    def update_policy(self, input_features, reward):\n",
    "        predicted_output = self.deep_network(input_features)\n",
    "        loss = self.compute_loss(predicted_output, reward)\n",
    "        self.optimizer.zero_grad()\n",
    "        loss.backward()\n",
    "        self.optimizer.step()\n",
    "        return loss.item()"
   ]
  },
  {
   "cell_type": "code",
   "execution_count": 14,
   "id": "a342085c",
   "metadata": {},
   "outputs": [],
   "source": [
    "input_size_dnn = hidden_size  # Matches output from SNN\n",
    "hidden_size_dnn = 128  \n",
    "output_size_dnn = 2  \n",
    "num_layers_dnn = 3  "
   ]
  },
  {
   "cell_type": "code",
   "execution_count": 23,
   "id": "b0177dda",
   "metadata": {},
   "outputs": [],
   "source": [
    "deep_network = DeepNetwork(input_size_dnn, hidden_size_dnn, output_size_dnn, num_layers_dnn)\n",
    "rl_module_dnn = ReinforcementLearningModuleForDNN(deep_network)"
   ]
  },
  {
   "cell_type": "code",
   "execution_count": 24,
   "id": "4ec00fbd",
   "metadata": {},
   "outputs": [
    {
     "name": "stdout",
     "output_type": "stream",
     "text": [
      "Deep Network output: tensor([[0.0821],\n",
      "        [0.0821],\n",
      "        [0.0821],\n",
      "        [0.0821],\n",
      "        [0.0821],\n",
      "        [0.0821],\n",
      "        [0.0821],\n",
      "        [0.0821],\n",
      "        [0.0821],\n",
      "        [0.0821]], grad_fn=<AddmmBackward0>)\n"
     ]
    }
   ],
   "source": [
    "output_dnn = deep_network(output_spikes)\n",
    "print(f\"Deep Network output: {output_dnn}\")"
   ]
  },
  {
   "cell_type": "code",
   "execution_count": 25,
   "id": "0a686bc6",
   "metadata": {},
   "outputs": [
    {
     "name": "stdout",
     "output_type": "stream",
     "text": [
      "Loss after policy update: 0.06535892933607101\n"
     ]
    }
   ],
   "source": [
    "reward_dnn = torch.tensor([1.0])\n",
    "\n",
    "# Update DNN policy\n",
    "loss_dnn = rl_module_dnn.update_policy(output_spikes, reward_dnn)\n",
    "print(f\"Loss after policy update: {loss_dnn}\")"
   ]
  },
  {
   "cell_type": "code",
   "execution_count": 30,
   "id": "cfd1728a",
   "metadata": {},
   "outputs": [
    {
     "data": {
      "image/png": "[encoded data removed]",
      "text/plain": [
       "<Figure size 1000x600 with 2 Axes>"
      ]
     },
     "metadata": {},
     "output_type": "display_data"
    }
   ],
   "source": [
    "import matplotlib.pyplot as plt\n",
    "import numpy as np\n",
    "\n",
    "def visualize_spike_train(spike_train, num_neurons=10, num_time_steps=50):\n",
    "    plt.figure(figsize=(10, 6))\n",
    "    plt.imshow(spike_train[:num_neurons, :num_time_steps], cmap='gray', aspect='auto')\n",
    "    plt.colorbar(label='Spike Activity (0 or 1)')\n",
    "    plt.xlabel('Time Steps')\n",
    "    plt.ylabel('Neurons')\n",
    "    plt.title('Binary Spike Train Visualization')\n",
    "    plt.show()\n",
    "\n",
    "# Assuming spike_train was generated earlier\n",
    "visualize_spike_train(spike_train)"
   ]
  },
  {
   "cell_type": "code",
   "execution_count": 31,
   "id": "e3aa6aab",
   "metadata": {},
   "outputs": [],
   "source": [
    "import torch\n",
    "import torch.nn as nn\n",
    "import torch.optim as optim\n",
    "from sklearn.metrics import accuracy_score"
   ]
  },
  {
   "cell_type": "code",
   "execution_count": 40,
   "id": "f9fd22e2",
   "metadata": {},
   "outputs": [],
   "source": [
    "labels = preprocessor.labels.values"
   ]
  },
  {
   "cell_type": "code",
   "execution_count": 41,
   "id": "92a468fd",
   "metadata": {},
   "outputs": [
    {
     "name": "stdout",
     "output_type": "stream",
     "text": [
      "X_train shape: (563, 103), X_test shape: (141, 103)\n",
      "y_train shape: (563,), y_test shape: (141,)\n"
     ]
    }
   ],
   "source": [
    "X_train, X_test, y_train, y_test = train_test_split(spike_train, labels, test_size=0.2, random_state=42)\n",
    "\n",
    "# Check the shapes to ensure compatibility\n",
    "print(f\"X_train shape: {X_train.shape}, X_test shape: {X_test.shape}\")\n",
    "print(f\"y_train shape: {y_train.shape}, y_test shape: {y_test.shape}\")"
   ]
  },
  {
   "cell_type": "code",
   "execution_count": 44,
   "id": "36b06b85",
   "metadata": {},
   "outputs": [
    {
     "name": "stdout",
     "output_type": "stream",
     "text": [
      "X_train_tensor shape: torch.Size([563, 103]), y_train_tensor shape: torch.Size([563])\n",
      "X_test_tensor shape: torch.Size([141, 103]), y_test_tensor shape: torch.Size([141])\n"
     ]
    }
   ],
   "source": [
    "from sklearn.preprocessing import LabelEncoder\n",
    "label_encoder = LabelEncoder()\n",
    "\n",
    "y_train_encoded = label_encoder.fit_transform(y_train)\n",
    "y_test_encoded = label_encoder.transform(y_test)\n",
    "\n",
    "X_train_tensor = torch.tensor(X_train, dtype=torch.float32)\n",
    "y_train_tensor = torch.tensor(y_train_encoded, dtype=torch.long)\n",
    "X_test_tensor = torch.tensor(X_test, dtype=torch.float32)\n",
    "y_test_tensor = torch.tensor(y_test_encoded, dtype=torch.long)\n",
    "\n",
    "\n",
    ";print(f\"X_train_tensor shape: {X_train_tensor.shape}, y_train_tensor shape: {y_train_tensor.shape}\")\n",
    "print(f\"X_test_tensor shape: {X_test_tensor.shape}, y_test_tensor shape: {y_test_tensor.shape}\")"
   ]
  },
  {
   "cell_type": "code",
   "execution_count": 45,
   "id": "dc24f005",
   "metadata": {},
   "outputs": [],
   "source": [
    "input_size_dnn = X_train_tensor.shape[1]  # Matches number of features (neurons)\n",
    "hidden_size_dnn = 128\n",
    "output_size_dnn = 2  # Binary classification (ASD or not ASD)\n",
    "num_layers_dnn = 3\n",
    "learning_rate = 0.001\n",
    "num_epochs = 30"
   ]
  },
  {
   "cell_type": "code",
   "execution_count": 46,
   "id": "41caecd1",
   "metadata": {},
   "outputs": [],
   "source": [
    "deep_network = DeepNetwork(input_size_dnn, hidden_size_dnn, output_size_dnn, num_layers_dnn)\n",
    "criterion = nn.CrossEntropyLoss()\n",
    "optimizer = optim.Adam(deep_network.parameters(), lr=learning_rate)"
   ]
  },
  {
   "cell_type": "code",
   "execution_count": 47,
   "id": "db155f8e",
   "metadata": {},
   "outputs": [],
   "source": [
    "train_losses = []\n",
    "train_accuracies = []"
   ]
  },
  {
   "cell_type": "code",
   "execution_count": 48,
   "id": "9f034608",
   "metadata": {},
   "outputs": [
    {
     "name": "stdout",
     "output_type": "stream",
     "text": [
      "Epoch [1/30], Loss: 0.7209, Accuracy: 0.2718\n",
      "Epoch [2/30], Loss: 0.7114, Accuracy: 0.2718\n",
      "Epoch [3/30], Loss: 0.7021, Accuracy: 0.2735\n",
      "Epoch [4/30], Loss: 0.6927, Accuracy: 0.5044\n",
      "Epoch [5/30], Loss: 0.6831, Accuracy: 0.7318\n",
      "Epoch [6/30], Loss: 0.6731, Accuracy: 0.7282\n",
      "Epoch [7/30], Loss: 0.6627, Accuracy: 0.7282\n",
      "Epoch [8/30], Loss: 0.6517, Accuracy: 0.7282\n",
      "Epoch [9/30], Loss: 0.6400, Accuracy: 0.7282\n",
      "Epoch [10/30], Loss: 0.6274, Accuracy: 0.7282\n",
      "Epoch [11/30], Loss: 0.6136, Accuracy: 0.7282\n",
      "Epoch [12/30], Loss: 0.5987, Accuracy: 0.7282\n",
      "Epoch [13/30], Loss: 0.5823, Accuracy: 0.7282\n",
      "Epoch [14/30], Loss: 0.5643, Accuracy: 0.7282\n",
      "Epoch [15/30], Loss: 0.5445, Accuracy: 0.7282\n",
      "Epoch [16/30], Loss: 0.5228, Accuracy: 0.7282\n",
      "Epoch [17/30], Loss: 0.4991, Accuracy: 0.7282\n",
      "Epoch [18/30], Loss: 0.4735, Accuracy: 0.7353\n",
      "Epoch [19/30], Loss: 0.4466, Accuracy: 0.7744\n",
      "Epoch [20/30], Loss: 0.4186, Accuracy: 0.8099\n",
      "Epoch [21/30], Loss: 0.3904, Accuracy: 0.8419\n",
      "Epoch [22/30], Loss: 0.3626, Accuracy: 0.8686\n",
      "Epoch [23/30], Loss: 0.3359, Accuracy: 0.9005\n",
      "Epoch [24/30], Loss: 0.3106, Accuracy: 0.9147\n",
      "Epoch [25/30], Loss: 0.2868, Accuracy: 0.9272\n",
      "Epoch [26/30], Loss: 0.2647, Accuracy: 0.9378\n",
      "Epoch [27/30], Loss: 0.2445, Accuracy: 0.9414\n",
      "Epoch [28/30], Loss: 0.2261, Accuracy: 0.9432\n",
      "Epoch [29/30], Loss: 0.2096, Accuracy: 0.9449\n",
      "Epoch [30/30], Loss: 0.1946, Accuracy: 0.9449\n"
     ]
    }
   ],
   "source": [
    "for epoch in range(num_epochs):\n",
    "    # Forward pass\n",
    "    outputs = deep_network(X_train_tensor)\n",
    "    loss = criterion(outputs, y_train_tensor)\n",
    "\n",
    "    # Backward and optimize\n",
    "    optimizer.zero_grad()\n",
    "    loss.backward()\n",
    "    optimizer.step()\n",
    "\n",
    "    # Compute training accuracy\n",
    "    _, predicted = torch.max(outputs.data, 1)\n",
    "    accuracy = accuracy_score(y_train_tensor, predicted)\n",
    "    \n",
    "    train_losses.append(loss.item())\n",
    "    train_accuracies.append(accuracy)\n",
    "\n",
    "    print(f'Epoch [{epoch+1}/{num_epochs}], Loss: {loss.item():.4f}, Accuracy: {accuracy:.4f}')"
   ]
  },
  {
   "cell_type": "code",
   "execution_count": 49,
   "id": "de17c295",
   "metadata": {},
   "outputs": [
    {
     "data": {
      "image/png": "[encoded data removed]",
      "text/plain": [
       "<Figure size 1200x500 with 2 Axes>"
      ]
     },
     "metadata": {},
     "output_type": "display_data"
    }
   ],
   "source": [
    "plt.figure(figsize=(12, 5))\n",
    "\n",
    "# Plotting loss\n",
    "plt.subplot(1, 2, 1)\n",
    "plt.plot(train_losses, label='Training Loss')\n",
    "plt.xlabel('Epochs')\n",
    "plt.ylabel('Loss')\n",
    "plt.title('Training Loss over Epochs')\n",
    "plt.legend()\n",
    "\n",
    "# Plotting accuracy\n",
    "plt.subplot(1, 2, 2)\n",
    "plt.plot(train_accuracies, label='Training Accuracy')\n",
    "plt.xlabel('Epochs')\n",
    "plt.ylabel('Accuracy')\n",
    "plt.title('Training Accuracy over Epochs')\n",
    "plt.legend()\n",
    "\n",
    "plt.show()"
   ]
  },
  {
   "cell_type": "code",
   "execution_count": 50,
   "id": "d25805f1",
   "metadata": {},
   "outputs": [
    {
     "name": "stdout",
     "output_type": "stream",
     "text": [
      "Test Accuracy: 0.9362\n"
     ]
    }
   ],
   "source": [
    "outputs_test = deep_network(X_test_tensor)\n",
    "_, predicted_test = torch.max(outputs_test.data, 1)\n",
    "test_accuracy = accuracy_score(y_test_tensor, predicted_test)\n",
    "\n",
    "print(f'Test Accuracy: {test_accuracy:.4f}')"
   ]
  },
  {
   "cell_type": "markdown",
   "id": "b9f03a26",
   "metadata": {},
   "source": [
    "# Reinforcement Learning"
   ]
  },
  {
   "cell_type": "code",
   "execution_count": 51,
   "id": "3869e739",
   "metadata": {},
   "outputs": [],
   "source": [
    "class ReinforcementLearningModuleForDNN:\n",
    "    def __init__(self, deep_network, learning_rate=0.001, gamma=0.99):\n",
    "        self.deep_network = deep_network\n",
    "        self.optimizer = optim.Adam(deep_network.parameters(), lr=learning_rate)\n",
    "        self.gamma = gamma  # Discount factor for future rewards\n",
    "        \n",
    "        # Critic network (for Actor-Critic model)\n",
    "        self.critic = nn.Linear(deep_network.output_layer.out_features, 1)\n",
    "\n",
    "    def compute_loss(self, predicted_output, reward):\n",
    "        critic_value = self.critic(predicted_output)\n",
    "        td_error = reward - critic_value\n",
    "        return torch.mean(td_error ** 2)\n",
    "\n",
    "    def update_policy(self, input_features, reward):\n",
    "        predicted_output = self.deep_network(input_features)\n",
    "        loss = self.compute_loss(predicted_output, reward)\n",
    "        \n",
    "        # Perform backpropagation and update the network weights\n",
    "        self.optimizer.zero_grad()\n",
    "        loss.backward()\n",
    "        self.optimizer.step()\n",
    "\n",
    "        return loss.item()"
   ]
  },
  {
   "cell_type": "code",
   "execution_count": 52,
   "id": "1c51e219",
   "metadata": {},
   "outputs": [],
   "source": [
    "# RL module\n",
    "rl_module_dnn = ReinforcementLearningModuleForDNN(deep_network, learning_rate=0.001, gamma=0.99)"
   ]
  },
  {
   "cell_type": "code",
   "execution_count": 53,
   "id": "153bfb08",
   "metadata": {},
   "outputs": [
    {
     "name": "stdout",
     "output_type": "stream",
     "text": [
      "RL Epoch [1/30], Loss: 1.6310\n",
      "RL Epoch [2/30], Loss: 1.3287\n",
      "RL Epoch [3/30], Loss: 1.0224\n",
      "RL Epoch [4/30], Loss: 0.7269\n",
      "RL Epoch [5/30], Loss: 0.4752\n",
      "RL Epoch [6/30], Loss: 0.3009\n",
      "RL Epoch [7/30], Loss: 0.2261\n",
      "RL Epoch [8/30], Loss: 0.2453\n",
      "RL Epoch [9/30], Loss: 0.3039\n",
      "RL Epoch [10/30], Loss: 0.3357\n",
      "RL Epoch [11/30], Loss: 0.3165\n",
      "RL Epoch [12/30], Loss: 0.2599\n",
      "RL Epoch [13/30], Loss: 0.1910\n",
      "RL Epoch [14/30], Loss: 0.1309\n",
      "RL Epoch [15/30], Loss: 0.0906\n",
      "RL Epoch [16/30], Loss: 0.0720\n",
      "RL Epoch [17/30], Loss: 0.0706\n",
      "RL Epoch [18/30], Loss: 0.0790\n",
      "RL Epoch [19/30], Loss: 0.0898\n",
      "RL Epoch [20/30], Loss: 0.0975\n",
      "RL Epoch [21/30], Loss: 0.0991\n",
      "RL Epoch [22/30], Loss: 0.0937\n",
      "RL Epoch [23/30], Loss: 0.0826\n",
      "RL Epoch [24/30], Loss: 0.0681\n",
      "RL Epoch [25/30], Loss: 0.0532\n",
      "RL Epoch [26/30], Loss: 0.0412\n",
      "RL Epoch [27/30], Loss: 0.0341\n",
      "RL Epoch [28/30], Loss: 0.0330\n",
      "RL Epoch [29/30], Loss: 0.0366\n",
      "RL Epoch [30/30], Loss: 0.0422\n",
      "Test Accuracy after RL: 0.7447\n"
     ]
    }
   ],
   "source": [
    "\n",
    "reward = torch.tensor([1.0])  # Positive reward example on spike output\n",
    "for i in range(num_epochs):\n",
    "    # Perform RL updates in environment\n",
    "    loss_rl = rl_module_dnn.update_policy(X_train_tensor, reward)\n",
    "    print(f'RL Epoch [{i+1}/{num_epochs}], Loss: {loss_rl:.4f}')\n",
    "\n",
    "# Evaluate again after RL training\n",
    "outputs_test_rl = deep_network(X_test_tensor)\n",
    "_, predicted_test_rl = torch.max(outputs_test_rl.data, 1)\n",
    "test_accuracy_rl = accuracy_score(y_test_tensor, predicted_test_rl)\n",
    "\n",
    "print(f'Test Accuracy after RL: {test_accuracy_rl:.4f}')"
   ]
  },
  {
   "cell_type": "code",
   "execution_count": 54,
   "id": "09e1bd68",
   "metadata": {},
   "outputs": [
    {
     "data": {
      "image/png": "[encoded data removed]",
      "text/plain": [
       "<Figure size 600x400 with 1 Axes>"
      ]
     },
     "metadata": {},
     "output_type": "display_data"
    },
    {
     "name": "stdout",
     "output_type": "stream",
     "text": [
      "Test Accuracy Improvement: -0.1915\n"
     ]
    }
   ],
   "source": [
    "# Plot comparison of test accuracy before and after RL\n",
    "plt.figure(figsize=(6, 4))\n",
    "plt.bar(['Before RL', 'After RL'], [test_accuracy, test_accuracy_rl], color=['blue', 'green'])\n",
    "plt.ylabel('Test Accuracy')\n",
    "plt.title('Test Accuracy Before and After Reinforcement Learning')\n",
    "plt.show()\n",
    "\n",
    "# Display accuracy improvement\n",
    "print(f\"Test Accuracy Improvement: {test_accuracy_rl - test_accuracy:.4f}\")"
   ]
  }
 ],
 "metadata": {
  "kernelspec": {
   "display_name": "Python 3 (ipykernel)",
   "language": "python",
   "name": "python3"
  },
  "language_info": {
   "codemirror_mode": {
    "name": "ipython",
    "version": 3
   },
   "file_extension": ".py",
   "mimetype": "text/x-python",
   "name": "python",
   "nbconvert_exporter": "python",
   "pygments_lexer": "ipython3",
   "version": "3.11.5"
  }
 },
 "nbformat": 4,
 "nbformat_minor": 5
}
